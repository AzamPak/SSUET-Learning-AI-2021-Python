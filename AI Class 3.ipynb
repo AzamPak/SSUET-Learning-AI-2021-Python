{
 "cells": [
  {
   "cell_type": "code",
   "execution_count": 11,
   "id": "a3dfea7a",
   "metadata": {},
   "outputs": [
    {
     "name": "stdout",
     "output_type": "stream",
     "text": [
      "correct password\n"
     ]
    }
   ],
   "source": [
    "password = \"azam123\"\n",
    "if password == \"azam123\":\n",
    "    print(\"correct password\")\n",
    "else:\n",
    "    print(\"incorrect password\")"
   ]
  },
  {
   "cell_type": "code",
   "execution_count": 7,
   "id": "42a328de",
   "metadata": {},
   "outputs": [],
   "source": [
    "password = \"azam123\""
   ]
  },
  {
   "cell_type": "code",
   "execution_count": 27,
   "id": "339fcf11",
   "metadata": {},
   "outputs": [
    {
     "name": "stdout",
     "output_type": "stream",
     "text": [
      "incorrect password\n"
     ]
    }
   ],
   "source": [
    "password = \"abc123\"\n",
    "if (password == \"abc12\"):\n",
    "    print (\"correct password\")\n",
    "else:\n",
    "    print (\"incorrect password\")"
   ]
  },
  {
   "cell_type": "code",
   "execution_count": 25,
   "id": "2a87ee01",
   "metadata": {},
   "outputs": [
    {
     "name": "stdout",
     "output_type": "stream",
     "text": [
      "greater\n"
     ]
    }
   ],
   "source": [
    "num1 = 10\n",
    "num2 = 15\n",
    "if (num1 >= num2):\n",
    "    print(\"lesser\")\n",
    "else:\n",
    "    print (\"greater\")"
   ]
  },
  {
   "cell_type": "code",
   "execution_count": 22,
   "id": "70c875e2",
   "metadata": {},
   "outputs": [
    {
     "name": "stdout",
     "output_type": "stream",
     "text": [
      "not equal\n"
     ]
    }
   ],
   "source": [
    "num1 = 10\n",
    "num2 = 15\n",
    "if (num1 != num2):\n",
    "    print(\"not equal\")"
   ]
  },
  {
   "cell_type": "code",
   "execution_count": 23,
   "id": "02a300e9",
   "metadata": {},
   "outputs": [
    {
     "name": "stdout",
     "output_type": "stream",
     "text": [
      "equal\n"
     ]
    }
   ],
   "source": [
    "num1 = 10\n",
    "num2 = 8\n",
    "if (num1 // num2):\n",
    "    print(\"equal\")\n",
    "else:\n",
    "    print(\"notequal\")\n"
   ]
  },
  {
   "cell_type": "code",
   "execution_count": 31,
   "id": "c36da2c7",
   "metadata": {},
   "outputs": [
    {
     "name": "stdout",
     "output_type": "stream",
     "text": [
      "Cond 3 true\n"
     ]
    }
   ],
   "source": [
    "if (\"Umair\" == \"umair\"):\n",
    "    print(\"Cond 1 true\")\n",
    "elif(\"Umair\" == \"ammar\"):\n",
    "    print(\"Cond 2 true\")\n",
    "elif(\"Umair\" == \"Umair\"):\n",
    "    print(\"Cond 3 true\")\n",
    "else:\n",
    "    print(\"0 Cond true\")"
   ]
  },
  {
   "cell_type": "code",
   "execution_count": 32,
   "id": "d6f460cf",
   "metadata": {},
   "outputs": [
    {
     "name": "stdout",
     "output_type": "stream",
     "text": [
      "Name Matched\n",
      "Password Matched\n"
     ]
    }
   ],
   "source": [
    "# name = \"Azam\"\n",
    "# password = \"Azam123\"\n",
    "# if(name == \"Azam\"):\n",
    "#     print(\"Name Matched\")\n",
    "# if(password == \"Azam123\"):\n",
    "#     print(\"Password Matched\")"
   ]
  },
  {
   "cell_type": "code",
   "execution_count": 56,
   "id": "a85f053d",
   "metadata": {},
   "outputs": [
    {
     "name": "stdout",
     "output_type": "stream",
     "text": [
      "Password Matched\n"
     ]
    }
   ],
   "source": [
    "if(name == \"Azam\" and password == \"Azam123\"):\n",
    "    print(\"Name Matched\" and \"Password Matched\")"
   ]
  },
  {
   "cell_type": "code",
   "execution_count": 50,
   "id": "5298c568",
   "metadata": {},
   "outputs": [],
   "source": [
    "weight = 300\n",
    "time = 6\n",
    "height = 5.8"
   ]
  },
  {
   "cell_type": "code",
   "execution_count": 52,
   "id": "45868b9b",
   "metadata": {},
   "outputs": [
    {
     "name": "stdout",
     "output_type": "stream",
     "text": [
      "recruit him!!\n"
     ]
    }
   ],
   "source": [
    "if(weight >= 300 and time <=6 and height >= 5.8):\n",
    "    print(\"recruit him!!\")"
   ]
  },
  {
   "cell_type": "code",
   "execution_count": 80,
   "id": "d9c02736",
   "metadata": {},
   "outputs": [
    {
     "name": "stdout",
     "output_type": "stream",
     "text": [
      "Fine\n"
     ]
    }
   ],
   "source": [
    "if(weight >= 300):\n",
    "    if(time < 6):\n",
    "        print(\"Veryfast\")\n",
    "    elif(time == 6):\n",
    "        print(\"Fine\")\n",
    "    \n",
    "    else: \n",
    "          print(\"slow\")\n",
    "        \n",
    "else:\n",
    "    print(\"weught was greator then 300\")\n",
    "    \n",
    "          \n",
    "               "
   ]
  },
  {
   "cell_type": "code",
   "execution_count": null,
   "id": "f34e67a1",
   "metadata": {},
   "outputs": [],
   "source": []
  }
 ],
 "metadata": {
  "kernelspec": {
   "display_name": "Python 3",
   "language": "python",
   "name": "python3"
  },
  "language_info": {
   "codemirror_mode": {
    "name": "ipython",
    "version": 3
   },
   "file_extension": ".py",
   "mimetype": "text/x-python",
   "name": "python",
   "nbconvert_exporter": "python",
   "pygments_lexer": "ipython3",
   "version": "3.8.8"
  }
 },
 "nbformat": 4,
 "nbformat_minor": 5
}
