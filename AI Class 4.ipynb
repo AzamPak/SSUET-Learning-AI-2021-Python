{
 "cells": [
  {
   "cell_type": "code",
   "execution_count": 1,
   "id": "04623fe1",
   "metadata": {},
   "outputs": [],
   "source": [
    "cities = [\"Karachi\" , \"Lahore\" , \"Quetta\" , \"Peshawar\" , \"Multan\"]"
   ]
  },
  {
   "cell_type": "code",
   "execution_count": 2,
   "id": "23a8a387",
   "metadata": {},
   "outputs": [
    {
     "name": "stdout",
     "output_type": "stream",
     "text": [
      "['Karachi', 'Lahore', 'Quetta', 'Peshawar', 'Multan']\n"
     ]
    }
   ],
   "source": [
    "print(cities)"
   ]
  },
  {
   "cell_type": "code",
   "execution_count": 3,
   "id": "2f222fc5",
   "metadata": {},
   "outputs": [
    {
     "data": {
      "text/plain": [
       "'Quetta'"
      ]
     },
     "execution_count": 3,
     "metadata": {},
     "output_type": "execute_result"
    }
   ],
   "source": [
    "cities[2]"
   ]
  },
  {
   "cell_type": "code",
   "execution_count": 18,
   "id": "8423fb3b",
   "metadata": {},
   "outputs": [
    {
     "name": "stdout",
     "output_type": "stream",
     "text": [
      "Because of  Quetta Lahore is out of psl\n"
     ]
    }
   ],
   "source": [
    "print (\"Because of \", cities[2] , cities[1], \"is out of psl\")"
   ]
  },
  {
   "cell_type": "code",
   "execution_count": 19,
   "id": "3c3d828e",
   "metadata": {},
   "outputs": [],
   "source": [
    "cities.append(\"Islamabad\")"
   ]
  },
  {
   "cell_type": "code",
   "execution_count": 21,
   "id": "2a4e5965",
   "metadata": {},
   "outputs": [
    {
     "name": "stdout",
     "output_type": "stream",
     "text": [
      "['Karachi', 'Lahore', 'Quetta', 'Peshawar', 'Multan', 'Islamabad']\n"
     ]
    }
   ],
   "source": [
    "print(cities)"
   ]
  },
  {
   "cell_type": "code",
   "execution_count": 22,
   "id": "0d0fc272",
   "metadata": {},
   "outputs": [],
   "source": [
    "cities = cities + [\"Larkana\" , \"Kashmir\"]"
   ]
  },
  {
   "cell_type": "code",
   "execution_count": 23,
   "id": "13ffea11",
   "metadata": {},
   "outputs": [
    {
     "name": "stdout",
     "output_type": "stream",
     "text": [
      "['Karachi', 'Lahore', 'Quetta', 'Peshawar', 'Multan', 'Islamabad', 'Larkana', 'Kashmir']\n"
     ]
    }
   ],
   "source": [
    "print(cities)"
   ]
  },
  {
   "cell_type": "code",
   "execution_count": 27,
   "id": "c0d541fc",
   "metadata": {},
   "outputs": [
    {
     "name": "stdout",
     "output_type": "stream",
     "text": [
      "Kashmir\n"
     ]
    }
   ],
   "source": [
    " print(cities[7])"
   ]
  },
  {
   "cell_type": "code",
   "execution_count": 34,
   "id": "3a572183",
   "metadata": {},
   "outputs": [
    {
     "name": "stdout",
     "output_type": "stream",
     "text": [
      "Kashmir\n"
     ]
    }
   ],
   "source": [
    "print(cities[7])"
   ]
  },
  {
   "cell_type": "code",
   "execution_count": 35,
   "id": "aac25b1a",
   "metadata": {},
   "outputs": [],
   "source": [
    "overall_cities = cities + [\"Hyderabad\", \"Sakkur\", \"Azadkashmir\", \"NawabShah\", \"Sialkot\", \"Gawadar\"]"
   ]
  },
  {
   "cell_type": "code",
   "execution_count": 36,
   "id": "0c2e5ab8",
   "metadata": {},
   "outputs": [
    {
     "name": "stdout",
     "output_type": "stream",
     "text": [
      "['Karachi', 'Lahore', 'Quetta', 'Peshawar', 'Multan', 'Islamabad', 'Larkana', 'Kashmir']\n"
     ]
    }
   ],
   "source": [
    "print(cities)"
   ]
  },
  {
   "cell_type": "code",
   "execution_count": 38,
   "id": "45490506",
   "metadata": {},
   "outputs": [
    {
     "name": "stdout",
     "output_type": "stream",
     "text": [
      "['Karachi', 'Lahore', 'Quetta', 'Peshawar', 'Multan', 'Islamabad', 'Larkana', 'Kashmir', 'Hyderabad', 'Sakkur', 'Azadkashmir', 'NawabShah', 'Sialkot', 'Gawadar']\n"
     ]
    }
   ],
   "source": [
    "print(overall_cities)"
   ]
  },
  {
   "cell_type": "code",
   "execution_count": 39,
   "id": "41ca5a57",
   "metadata": {},
   "outputs": [],
   "source": [
    "overall_cities.insert(3,\"Rawalpindi\")"
   ]
  },
  {
   "cell_type": "code",
   "execution_count": 40,
   "id": "f1ec82aa",
   "metadata": {},
   "outputs": [
    {
     "name": "stdout",
     "output_type": "stream",
     "text": [
      "['Karachi', 'Lahore', 'Quetta', 'Rawalpindi', 'Peshawar', 'Multan', 'Islamabad', 'Larkana', 'Kashmir', 'Hyderabad', 'Sakkur', 'Azadkashmir', 'NawabShah', 'Sialkot', 'Gawadar']\n"
     ]
    }
   ],
   "source": [
    "print(overall_cities)"
   ]
  },
  {
   "cell_type": "code",
   "execution_count": 42,
   "id": "c42229ec",
   "metadata": {},
   "outputs": [],
   "source": [
    "overall_cities.insert(1,\"Hydarabad\")"
   ]
  },
  {
   "cell_type": "code",
   "execution_count": 43,
   "id": "e0c90459",
   "metadata": {},
   "outputs": [],
   "source": [
    "overall_cities.insert(3,\"Panjab\")"
   ]
  },
  {
   "cell_type": "code",
   "execution_count": 45,
   "id": "19c11020",
   "metadata": {},
   "outputs": [],
   "source": [
    "overall_cities.insert(1,\"Sindh\")"
   ]
  },
  {
   "cell_type": "code",
   "execution_count": 47,
   "id": "d4c584de",
   "metadata": {},
   "outputs": [
    {
     "name": "stdout",
     "output_type": "stream",
     "text": [
      "['Karachi', 'Sindh', 'Hydarabad', 'Lahore', 'Panjab', 'Quetta', 'Rawalpindi', 'Peshawar', 'Multan', 'Islamabad', 'Larkana', 'Kashmir', 'Hyderabad', 'Sakkur', 'Azadkashmir', 'NawabShah', 'Sialkot', 'Gawadar']\n"
     ]
    }
   ],
   "source": [
    "print(overall_cities)"
   ]
  },
  {
   "cell_type": "code",
   "execution_count": 48,
   "id": "3283c5db",
   "metadata": {},
   "outputs": [],
   "source": [
    "overall_cities[0] = \"Quetta\"\n",
    "overall_cities[3] = \"Karachi\""
   ]
  },
  {
   "cell_type": "code",
   "execution_count": 49,
   "id": "11c1f165",
   "metadata": {},
   "outputs": [
    {
     "name": "stdout",
     "output_type": "stream",
     "text": [
      "['Quetta', 'Sindh', 'Hydarabad', 'Karachi', 'Panjab', 'Quetta', 'Rawalpindi', 'Peshawar', 'Multan', 'Islamabad', 'Larkana', 'Kashmir', 'Hyderabad', 'Sakkur', 'Azadkashmir', 'NawabShah', 'Sialkot', 'Gawadar']\n"
     ]
    }
   ],
   "source": [
    "print(overall_cities)"
   ]
  },
  {
   "cell_type": "code",
   "execution_count": 50,
   "id": "2c69857f",
   "metadata": {},
   "outputs": [],
   "source": [
    "overall_cities[12] = \"Lahore\""
   ]
  },
  {
   "cell_type": "code",
   "execution_count": 51,
   "id": "ba5b0515",
   "metadata": {},
   "outputs": [],
   "source": [
    "overall_cities[9] = \"Lahore\"\n",
    "overall_cities[12] = \"Islamabad\""
   ]
  },
  {
   "cell_type": "code",
   "execution_count": 52,
   "id": "d19e9bd1",
   "metadata": {},
   "outputs": [
    {
     "data": {
      "text/plain": [
       "['Quetta',\n",
       " 'Sindh',\n",
       " 'Hydarabad',\n",
       " 'Karachi',\n",
       " 'Panjab',\n",
       " 'Quetta',\n",
       " 'Rawalpindi',\n",
       " 'Peshawar',\n",
       " 'Multan',\n",
       " 'Lahore',\n",
       " 'Larkana',\n",
       " 'Kashmir',\n",
       " 'Islamabad',\n",
       " 'Sakkur',\n",
       " 'Azadkashmir',\n",
       " 'NawabShah',\n",
       " 'Sialkot',\n",
       " 'Gawadar']"
      ]
     },
     "execution_count": 52,
     "metadata": {},
     "output_type": "execute_result"
    }
   ],
   "source": [
    "overall_cities"
   ]
  },
  {
   "cell_type": "code",
   "execution_count": 53,
   "id": "79963af3",
   "metadata": {},
   "outputs": [
    {
     "data": {
      "text/plain": [
       "'Quetta'"
      ]
     },
     "execution_count": 53,
     "metadata": {},
     "output_type": "execute_result"
    }
   ],
   "source": [
    "overall_cities[0]"
   ]
  },
  {
   "cell_type": "code",
   "execution_count": 54,
   "id": "26f0a34f",
   "metadata": {},
   "outputs": [
    {
     "data": {
      "text/plain": [
       "'Sindh'"
      ]
     },
     "execution_count": 54,
     "metadata": {},
     "output_type": "execute_result"
    }
   ],
   "source": [
    "overall_cities[1]"
   ]
  },
  {
   "cell_type": "code",
   "execution_count": 55,
   "id": "5ea907c1",
   "metadata": {},
   "outputs": [],
   "source": [
    "temp_city = overall_cities[0]\n",
    "overall_cities[0] = overall_cities[1]\n",
    "overall_cities[1] = temp_city"
   ]
  },
  {
   "cell_type": "code",
   "execution_count": 56,
   "id": "29b116e0",
   "metadata": {},
   "outputs": [
    {
     "data": {
      "text/plain": [
       "['Sindh',\n",
       " 'Quetta',\n",
       " 'Hydarabad',\n",
       " 'Karachi',\n",
       " 'Panjab',\n",
       " 'Quetta',\n",
       " 'Rawalpindi',\n",
       " 'Peshawar',\n",
       " 'Multan',\n",
       " 'Lahore',\n",
       " 'Larkana',\n",
       " 'Kashmir',\n",
       " 'Islamabad',\n",
       " 'Sakkur',\n",
       " 'Azadkashmir',\n",
       " 'NawabShah',\n",
       " 'Sialkot',\n",
       " 'Gawadar']"
      ]
     },
     "execution_count": 56,
     "metadata": {},
     "output_type": "execute_result"
    }
   ],
   "source": [
    "overall_cities"
   ]
  },
  {
   "cell_type": "code",
   "execution_count": 58,
   "id": "af97ee3c",
   "metadata": {},
   "outputs": [],
   "source": [
    "# 16 chapter completed!"
   ]
  },
  {
   "cell_type": "code",
   "execution_count": 59,
   "id": "76c4f2a7",
   "metadata": {},
   "outputs": [
    {
     "name": "stdout",
     "output_type": "stream",
     "text": [
      "['Lahore', 'Quetta', 'Peshawar', 'Multan']\n"
     ]
    }
   ],
   "source": [
    "print(cities[1:5])"
   ]
  },
  {
   "cell_type": "code",
   "execution_count": 65,
   "id": "252e49f8",
   "metadata": {},
   "outputs": [
    {
     "name": "stdout",
     "output_type": "stream",
     "text": [
      "['Sindh', 'Hydarabad', 'Panjab', 'Rawalpindi']\n"
     ]
    }
   ],
   "source": [
    "print(overall_cities[0:8:2])"
   ]
  },
  {
   "cell_type": "code",
   "execution_count": 71,
   "id": "708e6cd4",
   "metadata": {},
   "outputs": [
    {
     "name": "stdout",
     "output_type": "stream",
     "text": [
      "['Gawadar', 'Sialkot', 'NawabShah', 'Azadkashmir', 'Sakkur', 'Islamabad', 'Kashmir', 'Larkana', 'Lahore', 'Multan', 'Peshawar', 'Rawalpindi', 'Quetta', 'Panjab', 'Karachi', 'Hydarabad', 'Quetta', 'Sindh']\n"
     ]
    }
   ],
   "source": [
    "print(overall_cities[::-1])"
   ]
  },
  {
   "cell_type": "code",
   "execution_count": 72,
   "id": "9dd635de",
   "metadata": {},
   "outputs": [],
   "source": [
    "# 17 chapter completed!"
   ]
  },
  {
   "cell_type": "code",
   "execution_count": 78,
   "id": "14c279a3",
   "metadata": {},
   "outputs": [],
   "source": [
    "del overall_cities[3]"
   ]
  },
  {
   "cell_type": "code",
   "execution_count": 79,
   "id": "38f97684",
   "metadata": {},
   "outputs": [
    {
     "name": "stdout",
     "output_type": "stream",
     "text": [
      "['Sindh', 'Quetta', 'Hydarabad', 'Panjab', 'Quetta', 'Rawalpindi', 'Peshawar', 'Multan', 'Lahore', 'Larkana', 'Kashmir', 'Islamabad', 'Sakkur', 'Azadkashmir', 'NawabShah', 'Sialkot', 'Gawadar']\n"
     ]
    }
   ],
   "source": [
    "print(overall_cities)"
   ]
  },
  {
   "cell_type": "code",
   "execution_count": 80,
   "id": "715851d3",
   "metadata": {},
   "outputs": [],
   "source": [
    "sindh_cities = []"
   ]
  },
  {
   "cell_type": "code",
   "execution_count": 90,
   "id": "e7039d21",
   "metadata": {},
   "outputs": [],
   "source": [
    "sindh_cities.append(overall_cities.pop(2))"
   ]
  },
  {
   "cell_type": "code",
   "execution_count": 91,
   "id": "6cf8949e",
   "metadata": {},
   "outputs": [
    {
     "data": {
      "text/plain": [
       "['Sindh', 'Panjab']"
      ]
     },
     "execution_count": 91,
     "metadata": {},
     "output_type": "execute_result"
    }
   ],
   "source": [
    "sindh_cities"
   ]
  },
  {
   "cell_type": "code",
   "execution_count": 92,
   "id": "49d13e60",
   "metadata": {},
   "outputs": [],
   "source": [
    "# 19 chapter completed!"
   ]
  },
  {
   "cell_type": "code",
   "execution_count": 93,
   "id": "18ec4192",
   "metadata": {},
   "outputs": [],
   "source": [
    "Car_list = []"
   ]
  },
  {
   "cell_type": "code",
   "execution_count": 97,
   "id": "94893380",
   "metadata": {},
   "outputs": [],
   "source": [
    "Car_Names = [\"Corolla\",\"Yaris\",\"Revo\",\"Vitz\",\"Fortuner\",\"Cross\",\"Aqua\"]"
   ]
  },
  {
   "cell_type": "code",
   "execution_count": 99,
   "id": "d9e268c2",
   "metadata": {},
   "outputs": [
    {
     "name": "stdout",
     "output_type": "stream",
     "text": [
      "['Corolla', 'Yaris', 'Revo', 'Vitz', 'Fortuner', 'Cross', 'Aqua']\n"
     ]
    }
   ],
   "source": [
    "print(Car_Names)"
   ]
  },
  {
   "cell_type": "code",
   "execution_count": 102,
   "id": "ef1865fb",
   "metadata": {},
   "outputs": [],
   "source": [
    "Car_list.append(Car_Names.pop(0))"
   ]
  },
  {
   "cell_type": "code",
   "execution_count": 103,
   "id": "1bef42da",
   "metadata": {},
   "outputs": [],
   "source": [
    "Car_list.append(Car_Names.pop(2))"
   ]
  },
  {
   "cell_type": "code",
   "execution_count": 104,
   "id": "2e251f41",
   "metadata": {},
   "outputs": [
    {
     "name": "stdout",
     "output_type": "stream",
     "text": [
      "['Corolla', 'Vitz']\n"
     ]
    }
   ],
   "source": [
    "print(Car_list)"
   ]
  },
  {
   "cell_type": "code",
   "execution_count": 105,
   "id": "7aa82ef3",
   "metadata": {},
   "outputs": [],
   "source": [
    "car_list = (\"Corolla\",\"Vitz\")"
   ]
  },
  {
   "cell_type": "code",
   "execution_count": 106,
   "id": "94bbaaa0",
   "metadata": {},
   "outputs": [
    {
     "name": "stdout",
     "output_type": "stream",
     "text": [
      "('Corolla', 'Vitz')\n"
     ]
    }
   ],
   "source": [
    "print(car_list)"
   ]
  },
  {
   "cell_type": "code",
   "execution_count": 107,
   "id": "e48a5a94",
   "metadata": {},
   "outputs": [],
   "source": [
    "# 20 Chapter completed!"
   ]
  },
  {
   "cell_type": "code",
   "execution_count": null,
   "id": "cb2feff1",
   "metadata": {},
   "outputs": [],
   "source": []
  }
 ],
 "metadata": {
  "kernelspec": {
   "display_name": "Python 3",
   "language": "python",
   "name": "python3"
  },
  "language_info": {
   "codemirror_mode": {
    "name": "ipython",
    "version": 3
   },
   "file_extension": ".py",
   "mimetype": "text/x-python",
   "name": "python",
   "nbconvert_exporter": "python",
   "pygments_lexer": "ipython3",
   "version": "3.8.8"
  }
 },
 "nbformat": 4,
 "nbformat_minor": 5
}
