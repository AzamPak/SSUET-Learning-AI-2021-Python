{
 "cells": [
  {
   "cell_type": "code",
   "execution_count": 25,
   "id": "6c354c48",
   "metadata": {},
   "outputs": [],
   "source": [
    "# Chapter 21th (For Loops!)"
   ]
  },
  {
   "cell_type": "code",
   "execution_count": 20,
   "id": "4166dccd",
   "metadata": {},
   "outputs": [],
   "source": [
    "PSL_Cities = [\"Karachi\" , \"Quetta\" , \"Islamabad\" , \"Peshawar\" , \"Multan\" , \"Lahore\"]"
   ]
  },
  {
   "cell_type": "code",
   "execution_count": 21,
   "id": "e334d1e2",
   "metadata": {},
   "outputs": [],
   "source": [
    "city = \"Multan\""
   ]
  },
  {
   "cell_type": "code",
   "execution_count": 22,
   "id": "fce1634b",
   "metadata": {},
   "outputs": [
    {
     "name": "stdout",
     "output_type": "stream",
     "text": [
      "Winner Multan\n"
     ]
    }
   ],
   "source": [
    "if city == PSL_Cities[0]:\n",
    "    print(\"Winner\",PSL_Cities[0])\n",
    "elif city == PSL_Cities[1]:\n",
    "    print(\"Winner\",PSL_Cities[1])\n",
    "elif city == PSL_Cities[2]:\n",
    "    print(\"Winner\",PSL_Cities[2])\n",
    "elif city == PSL_Cities[3]:\n",
    "    print(\"Winner\",PSL_Cities[3])\n",
    "elif city == PSL_Cities[4]:\n",
    "    print(\"Winner\",PSL_Cities[4])\n",
    "elif city == PSL_Cities[5]:\n",
    "    print(\"Winner\",PSL_Cities[5])\n",
    "    "
   ]
  },
  {
   "cell_type": "code",
   "execution_count": 23,
   "id": "bd06ed64",
   "metadata": {},
   "outputs": [
    {
     "name": "stdout",
     "output_type": "stream",
     "text": [
      "Winner\n"
     ]
    }
   ],
   "source": [
    "for temp_city in PSL_Cities:\n",
    "    if(temp_city == city):\n",
    "        print(\"Winner\")"
   ]
  },
  {
   "cell_type": "code",
   "execution_count": 15,
   "id": "971e9c43",
   "metadata": {},
   "outputs": [
    {
     "data": {
      "text/plain": [
       "['Lahore']"
      ]
     },
     "execution_count": 15,
     "metadata": {},
     "output_type": "execute_result"
    }
   ],
   "source": [
    "temp_city"
   ]
  },
  {
   "cell_type": "code",
   "execution_count": 26,
   "id": "9661530c",
   "metadata": {},
   "outputs": [],
   "source": [
    "a = range(100)"
   ]
  },
  {
   "cell_type": "code",
   "execution_count": 27,
   "id": "4f2e9968",
   "metadata": {},
   "outputs": [
    {
     "data": {
      "text/plain": [
       "range(0, 100)"
      ]
     },
     "execution_count": 27,
     "metadata": {},
     "output_type": "execute_result"
    }
   ],
   "source": [
    "a"
   ]
  },
  {
   "cell_type": "code",
   "execution_count": 31,
   "id": "59ce6990",
   "metadata": {},
   "outputs": [
    {
     "name": "stdout",
     "output_type": "stream",
     "text": [
      "0\n",
      "1\n",
      "2\n",
      "3\n",
      "4\n",
      "5\n",
      "6\n",
      "7\n",
      "8\n",
      "9\n",
      "10\n",
      "11\n",
      "12\n",
      "13\n",
      "14\n",
      "15\n",
      "16\n",
      "17\n",
      "18\n",
      "19\n",
      "20\n",
      "21\n",
      "22\n",
      "23\n",
      "24\n",
      "25\n",
      "26\n",
      "27\n",
      "28\n",
      "29\n",
      "30\n",
      "31\n",
      "32\n",
      "33\n",
      "34\n",
      "35\n",
      "36\n",
      "37\n",
      "38\n",
      "39\n",
      "40\n",
      "41\n",
      "42\n",
      "43\n",
      "44\n",
      "45\n",
      "46\n",
      "47\n",
      "48\n",
      "49\n",
      "50\n",
      "51\n",
      "52\n",
      "53\n",
      "54\n",
      "55\n",
      "56\n",
      "57\n",
      "58\n",
      "59\n",
      "60\n",
      "61\n",
      "62\n",
      "63\n",
      "64\n",
      "65\n",
      "66\n",
      "67\n",
      "68\n",
      "69\n",
      "70\n",
      "71\n",
      "72\n",
      "73\n",
      "74\n",
      "75\n",
      "76\n",
      "77\n",
      "78\n",
      "79\n",
      "80\n",
      "81\n",
      "82\n",
      "83\n",
      "84\n",
      "85\n",
      "86\n",
      "87\n",
      "88\n",
      "89\n",
      "90\n",
      "91\n",
      "92\n",
      "93\n",
      "94\n",
      "95\n",
      "96\n",
      "97\n",
      "98\n",
      "99\n"
     ]
    }
   ],
   "source": [
    "for a in range(100):\n",
    "    print(a)"
   ]
  },
  {
   "cell_type": "code",
   "execution_count": 34,
   "id": "3278a383",
   "metadata": {},
   "outputs": [],
   "source": [
    "a = \"I will be a good student in class\""
   ]
  },
  {
   "cell_type": "code",
   "execution_count": 35,
   "id": "14d521e3",
   "metadata": {},
   "outputs": [
    {
     "name": "stdout",
     "output_type": "stream",
     "text": [
      "I will be a good student in class\n"
     ]
    }
   ],
   "source": [
    "print(a)"
   ]
  },
  {
   "cell_type": "code",
   "execution_count": 36,
   "id": "b280a7d8",
   "metadata": {},
   "outputs": [
    {
     "name": "stdout",
     "output_type": "stream",
     "text": [
      "I will be a good student in class\n",
      "I will be a good student in class\n",
      "I will be a good student in class\n",
      "I will be a good student in class\n",
      "I will be a good student in class\n",
      "I will be a good student in class\n",
      "I will be a good student in class\n",
      "I will be a good student in class\n",
      "I will be a good student in class\n",
      "I will be a good student in class\n",
      "I will be a good student in class\n",
      "I will be a good student in class\n",
      "I will be a good student in class\n",
      "I will be a good student in class\n",
      "I will be a good student in class\n",
      "I will be a good student in class\n",
      "I will be a good student in class\n",
      "I will be a good student in class\n",
      "I will be a good student in class\n",
      "I will be a good student in class\n",
      "I will be a good student in class\n",
      "I will be a good student in class\n",
      "I will be a good student in class\n",
      "I will be a good student in class\n",
      "I will be a good student in class\n",
      "I will be a good student in class\n",
      "I will be a good student in class\n",
      "I will be a good student in class\n",
      "I will be a good student in class\n",
      "I will be a good student in class\n",
      "I will be a good student in class\n",
      "I will be a good student in class\n",
      "I will be a good student in class\n",
      "I will be a good student in class\n",
      "I will be a good student in class\n",
      "I will be a good student in class\n",
      "I will be a good student in class\n",
      "I will be a good student in class\n",
      "I will be a good student in class\n",
      "I will be a good student in class\n",
      "I will be a good student in class\n",
      "I will be a good student in class\n",
      "I will be a good student in class\n",
      "I will be a good student in class\n",
      "I will be a good student in class\n",
      "I will be a good student in class\n",
      "I will be a good student in class\n",
      "I will be a good student in class\n",
      "I will be a good student in class\n",
      "I will be a good student in class\n",
      "I will be a good student in class\n",
      "I will be a good student in class\n",
      "I will be a good student in class\n",
      "I will be a good student in class\n",
      "I will be a good student in class\n",
      "I will be a good student in class\n",
      "I will be a good student in class\n",
      "I will be a good student in class\n",
      "I will be a good student in class\n",
      "I will be a good student in class\n",
      "I will be a good student in class\n",
      "I will be a good student in class\n",
      "I will be a good student in class\n",
      "I will be a good student in class\n",
      "I will be a good student in class\n",
      "I will be a good student in class\n",
      "I will be a good student in class\n",
      "I will be a good student in class\n",
      "I will be a good student in class\n",
      "I will be a good student in class\n",
      "I will be a good student in class\n",
      "I will be a good student in class\n",
      "I will be a good student in class\n",
      "I will be a good student in class\n",
      "I will be a good student in class\n",
      "I will be a good student in class\n",
      "I will be a good student in class\n",
      "I will be a good student in class\n",
      "I will be a good student in class\n",
      "I will be a good student in class\n",
      "I will be a good student in class\n",
      "I will be a good student in class\n",
      "I will be a good student in class\n",
      "I will be a good student in class\n",
      "I will be a good student in class\n",
      "I will be a good student in class\n",
      "I will be a good student in class\n",
      "I will be a good student in class\n",
      "I will be a good student in class\n",
      "I will be a good student in class\n",
      "I will be a good student in class\n",
      "I will be a good student in class\n",
      "I will be a good student in class\n",
      "I will be a good student in class\n",
      "I will be a good student in class\n",
      "I will be a good student in class\n",
      "I will be a good student in class\n",
      "I will be a good student in class\n",
      "I will be a good student in class\n",
      "I will be a good student in class\n"
     ]
    }
   ],
   "source": [
    "for i in range(100):\n",
    "    print(a)"
   ]
  },
  {
   "cell_type": "code",
   "execution_count": 38,
   "id": "1a2f71c5",
   "metadata": {},
   "outputs": [],
   "source": [
    "#Chapter 22th (for loops nasted!)"
   ]
  },
  {
   "cell_type": "code",
   "execution_count": 39,
   "id": "99793110",
   "metadata": {},
   "outputs": [],
   "source": [
    "First_Names = [\"BlueRay\" , \"Upchuck\" , \"Lojack\" , \"Gizmo\" , \"Do-Rag\"] "
   ]
  },
  {
   "cell_type": "code",
   "execution_count": 40,
   "id": "571fc236",
   "metadata": {},
   "outputs": [],
   "source": [
    "Last_Names = [\"Zzz\" , \"Burp\" , \"Dogbone\" , \"Droop\"]"
   ]
  },
  {
   "cell_type": "code",
   "execution_count": 41,
   "id": "2419ca46",
   "metadata": {},
   "outputs": [
    {
     "name": "stdout",
     "output_type": "stream",
     "text": [
      "['BlueRay', 'Upchuck', 'Lojack', 'Gizmo', 'Do-Rag']\n"
     ]
    }
   ],
   "source": [
    "print(First_Names)"
   ]
  },
  {
   "cell_type": "code",
   "execution_count": 43,
   "id": "eeaec427",
   "metadata": {},
   "outputs": [
    {
     "name": "stdout",
     "output_type": "stream",
     "text": [
      "['Zzz', 'Burp', 'Dogbone', 'Droop']\n"
     ]
    }
   ],
   "source": [
    "print(Last_Names)"
   ]
  },
  {
   "cell_type": "code",
   "execution_count": 55,
   "id": "d78f35ab",
   "metadata": {},
   "outputs": [],
   "source": [
    "full_name = []"
   ]
  },
  {
   "cell_type": "code",
   "execution_count": 58,
   "id": "31c9f5a5",
   "metadata": {},
   "outputs": [
    {
     "name": "stdout",
     "output_type": "stream",
     "text": [
      "BlueRay Zzz\n",
      "BlueRay Burp\n",
      "BlueRay Dogbone\n",
      "BlueRay Droop\n",
      "Upchuck Zzz\n",
      "Upchuck Burp\n",
      "Upchuck Dogbone\n",
      "Upchuck Droop\n",
      "Lojack Zzz\n",
      "Lojack Burp\n",
      "Lojack Dogbone\n",
      "Lojack Droop\n",
      "Gizmo Zzz\n",
      "Gizmo Burp\n",
      "Gizmo Dogbone\n",
      "Gizmo Droop\n",
      "Do-Rag Zzz\n",
      "Do-Rag Burp\n",
      "Do-Rag Dogbone\n",
      "Do-Rag Droop\n"
     ]
    }
   ],
   "source": [
    "for f_name in First_Names:\n",
    "    for i_name in Last_Names:\n",
    "        print(f_name,i_name)\n",
    "        full_name.append(f_name + i_name)"
   ]
  },
  {
   "cell_type": "code",
   "execution_count": 53,
   "id": "380af581",
   "metadata": {},
   "outputs": [],
   "source": [
    "#Chapter 23th (Getting info from the user!)"
   ]
  },
  {
   "cell_type": "code",
   "execution_count": 59,
   "id": "0215151b",
   "metadata": {},
   "outputs": [
    {
     "name": "stdout",
     "output_type": "stream",
     "text": [
      "Enter your name: AzamPK\n"
     ]
    }
   ],
   "source": [
    "username = input(\"Enter your name: \")"
   ]
  },
  {
   "cell_type": "code",
   "execution_count": 60,
   "id": "3c4ad88e",
   "metadata": {},
   "outputs": [
    {
     "name": "stdout",
     "output_type": "stream",
     "text": [
      "AzamPK\n"
     ]
    }
   ],
   "source": [
    "print(username)"
   ]
  },
  {
   "cell_type": "code",
   "execution_count": 61,
   "id": "17a7d2e9",
   "metadata": {},
   "outputs": [
    {
     "data": {
      "text/plain": [
       "str"
      ]
     },
     "execution_count": 61,
     "metadata": {},
     "output_type": "execute_result"
    }
   ],
   "source": [
    "type(username)"
   ]
  },
  {
   "cell_type": "code",
   "execution_count": 62,
   "id": "6c200f4a",
   "metadata": {},
   "outputs": [],
   "source": [
    "x = 25"
   ]
  },
  {
   "cell_type": "code",
   "execution_count": 63,
   "id": "e42ab8fd",
   "metadata": {},
   "outputs": [],
   "source": [
    "y = 55"
   ]
  },
  {
   "cell_type": "code",
   "execution_count": 73,
   "id": "73e99444",
   "metadata": {},
   "outputs": [
    {
     "name": "stdout",
     "output_type": "stream",
     "text": [
      "Enter any number: 5\n",
      "Enter any number: 5\n"
     ]
    }
   ],
   "source": [
    "number_1 = input(\"Enter any number: \")\n",
    "number_2 = input(\"Enter any number: \")"
   ]
  },
  {
   "cell_type": "code",
   "execution_count": 75,
   "id": "3d624c9d",
   "metadata": {},
   "outputs": [
    {
     "name": "stdout",
     "output_type": "stream",
     "text": [
      "Printed as an integer 10\n"
     ]
    }
   ],
   "source": [
    "try:\n",
    "    number_1 = int(number_1)\n",
    "    number_2 = int(number_2)\n",
    "    res = number_1 + number_2\n",
    "    print(\"Printed as an integer\", res)\n",
    "\n",
    "except:\n",
    "    res = number_1 + number2\n",
    "    print(\"Printed as a string\", res)"
   ]
  },
  {
   "cell_type": "code",
   "execution_count": 77,
   "id": "f40262af",
   "metadata": {},
   "outputs": [],
   "source": [
    " # Chapter 24th (Changing case)"
   ]
  },
  {
   "cell_type": "code",
   "execution_count": 78,
   "id": "38f06639",
   "metadata": {},
   "outputs": [
    {
     "name": "stdout",
     "output_type": "stream",
     "text": [
      "['Karachi', 'Quetta', 'Islamabad', 'Peshawar', 'Multan', 'Lahore']\n"
     ]
    }
   ],
   "source": [
    "print(PSL_Cities)"
   ]
  },
  {
   "cell_type": "code",
   "execution_count": 97,
   "id": "4ff0b58b",
   "metadata": {},
   "outputs": [
    {
     "name": "stdout",
     "output_type": "stream",
     "text": [
      "Enter your city name: islamabad\n"
     ]
    }
   ],
   "source": [
    "City_of_user = input(\"Enter your city name: \")"
   ]
  },
  {
   "cell_type": "code",
   "execution_count": 100,
   "id": "1b7ec792",
   "metadata": {},
   "outputs": [
    {
     "name": "stdout",
     "output_type": "stream",
     "text": [
      "Sorry better luck next time\n",
      "Sorry better luck next time\n",
      "Congrats you were the participant of Psl\n"
     ]
    }
   ],
   "source": [
    "City_of_user = City_of_user.title()\n",
    "for city in PSL_Cities:\n",
    "    if(City_of_user == city):\n",
    "        print(\"Congrats you were the participant of Psl\")\n",
    "        break\n",
    "    else:\n",
    "        print(\"Sorry better luck next time\")"
   ]
  },
  {
   "cell_type": "code",
   "execution_count": null,
   "id": "64e5ea46",
   "metadata": {},
   "outputs": [],
   "source": []
  }
 ],
 "metadata": {
  "kernelspec": {
   "display_name": "Python 3",
   "language": "python",
   "name": "python3"
  },
  "language_info": {
   "codemirror_mode": {
    "name": "ipython",
    "version": 3
   },
   "file_extension": ".py",
   "mimetype": "text/x-python",
   "name": "python",
   "nbconvert_exporter": "python",
   "pygments_lexer": "ipython3",
   "version": "3.8.8"
  }
 },
 "nbformat": 4,
 "nbformat_minor": 5
}
