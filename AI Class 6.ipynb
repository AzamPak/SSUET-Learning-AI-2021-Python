{
 "cells": [
  {
   "cell_type": "code",
   "execution_count": 19,
   "id": "7f96120e",
   "metadata": {},
   "outputs": [],
   "source": [
    "# Chapter 25th/ Dictionaries "
   ]
  },
  {
   "cell_type": "code",
   "execution_count": 20,
   "id": "70410390",
   "metadata": {},
   "outputs": [],
   "source": [
    "contact_book = {\n",
    "    \"azam\" : \"+9203110229243\",\n",
    "    \"umer\" : \"+9203462702547\"\n",
    "}"
   ]
  },
  {
   "cell_type": "code",
   "execution_count": 6,
   "id": "95999741",
   "metadata": {},
   "outputs": [
    {
     "name": "stdout",
     "output_type": "stream",
     "text": [
      "+9203110229243\n"
     ]
    }
   ],
   "source": [
    "print(contact_book[\"azam\"])"
   ]
  },
  {
   "cell_type": "code",
   "execution_count": 9,
   "id": "82f0bd9b",
   "metadata": {},
   "outputs": [],
   "source": [
    "contact_book [\"test\"] = \"090087601\""
   ]
  },
  {
   "cell_type": "code",
   "execution_count": 10,
   "id": "379ac89b",
   "metadata": {},
   "outputs": [
    {
     "name": "stdout",
     "output_type": "stream",
     "text": [
      "090087601\n"
     ]
    }
   ],
   "source": [
    "print(contact_book[\"test\"])"
   ]
  },
  {
   "cell_type": "code",
   "execution_count": 11,
   "id": "dea74922",
   "metadata": {},
   "outputs": [],
   "source": [
    "del contact_book[\"test\"]"
   ]
  },
  {
   "cell_type": "code",
   "execution_count": 13,
   "id": "fc31b92e",
   "metadata": {},
   "outputs": [
    {
     "name": "stdout",
     "output_type": "stream",
     "text": [
      "{'azam': '+9203110229243', 'umer': '+9203462702547'}\n"
     ]
    }
   ],
   "source": [
    "print(contact_book)"
   ]
  },
  {
   "cell_type": "code",
   "execution_count": 15,
   "id": "9f022fd3",
   "metadata": {},
   "outputs": [],
   "source": [
    "contact_book = {\n",
    "    \"azam\" : \"Vehicle Toyota Corolla 2020\",\n",
    "    \"umer\" : \"Vehicle Honda Civic X 2021\",\n",
    "    \"omar\" : \"Vehicle Toyota Revo 2021\",\n",
    "    \"asad\" : \"Vehicle Kia Sportage 2021\"\n",
    "}"
   ]
  },
  {
   "cell_type": "code",
   "execution_count": 16,
   "id": "4b38c4c0",
   "metadata": {},
   "outputs": [
    {
     "name": "stdout",
     "output_type": "stream",
     "text": [
      "{'azam': 'Vehicle Toyota Corolla 2020', 'umer': 'Vehicle Honda Civic X 2021', 'omar': 'Vehicle Toyota Revo 2021', 'asad': 'Vehicle Kia Sportage 2021'}\n"
     ]
    }
   ],
   "source": [
    "print(contact_book)"
   ]
  },
  {
   "cell_type": "code",
   "execution_count": 17,
   "id": "44d046e5",
   "metadata": {},
   "outputs": [],
   "source": [
    "del(contact_book[\"asad\"])"
   ]
  },
  {
   "cell_type": "code",
   "execution_count": 18,
   "id": "7ecf0ff4",
   "metadata": {},
   "outputs": [
    {
     "name": "stdout",
     "output_type": "stream",
     "text": [
      "{'azam': 'Vehicle Toyota Corolla 2020', 'umer': 'Vehicle Honda Civic X 2021', 'omar': 'Vehicle Toyota Revo 2021'}\n"
     ]
    }
   ],
   "source": [
    "print(contact_book)"
   ]
  },
  {
   "cell_type": "code",
   "execution_count": 22,
   "id": "aa2566f1",
   "metadata": {},
   "outputs": [
    {
     "data": {
      "text/plain": [
       "dict_values(['+9203110229243', '+9203462702547'])"
      ]
     },
     "execution_count": 22,
     "metadata": {},
     "output_type": "execute_result"
    }
   ],
   "source": [
    "contact_book.values()"
   ]
  },
  {
   "cell_type": "code",
   "execution_count": 23,
   "id": "f45c6e1c",
   "metadata": {},
   "outputs": [
    {
     "data": {
      "text/plain": [
       "dict_items([('azam', '+9203110229243'), ('umer', '+9203462702547')])"
      ]
     },
     "execution_count": 23,
     "metadata": {},
     "output_type": "execute_result"
    }
   ],
   "source": [
    "contact_book.items()"
   ]
  },
  {
   "cell_type": "code",
   "execution_count": 24,
   "id": "9b701556",
   "metadata": {},
   "outputs": [],
   "source": [
    "contact_book[\"test\"] = \"090054234\"\n",
    "contact_book[\"test1\"] = \"09005212\"\n",
    "contact_book[\"test2\"] = \"09001234\""
   ]
  },
  {
   "cell_type": "code",
   "execution_count": 25,
   "id": "4c86ff65",
   "metadata": {},
   "outputs": [
    {
     "name": "stdout",
     "output_type": "stream",
     "text": [
      "+9203110229243\n",
      "+9203462702547\n",
      "090054234\n",
      "09005212\n",
      "09001234\n"
     ]
    }
   ],
   "source": [
    "for temp in contact_book.values():\n",
    "    print(temp)"
   ]
  },
  {
   "cell_type": "code",
   "execution_count": 26,
   "id": "541cd3ff",
   "metadata": {},
   "outputs": [
    {
     "name": "stdout",
     "output_type": "stream",
     "text": [
      "azam\n",
      "umer\n",
      "test\n",
      "test1\n",
      "test2\n"
     ]
    }
   ],
   "source": [
    "for temp in contact_book.keys():\n",
    "    print(temp)"
   ]
  },
  {
   "cell_type": "code",
   "execution_count": 30,
   "id": "8094adf3",
   "metadata": {},
   "outputs": [
    {
     "name": "stdout",
     "output_type": "stream",
     "text": [
      "azam +9203110229243\n",
      "umer +9203462702547\n",
      "test 090054234\n",
      "test1 09005212\n",
      "test2 09001234\n"
     ]
    }
   ],
   "source": [
    "for key,value in contact_book.items():\n",
    "    print(key,value)"
   ]
  },
  {
   "cell_type": "code",
   "execution_count": 29,
   "id": "a332ee53",
   "metadata": {},
   "outputs": [
    {
     "data": {
      "text/plain": [
       "('test2', '09001234')"
      ]
     },
     "execution_count": 29,
     "metadata": {},
     "output_type": "execute_result"
    }
   ],
   "source": [
    "temp"
   ]
  },
  {
   "cell_type": "code",
   "execution_count": 31,
   "id": "bb60e2e1",
   "metadata": {},
   "outputs": [],
   "source": [
    "customers = []"
   ]
  },
  {
   "cell_type": "code",
   "execution_count": 37,
   "id": "a2920228",
   "metadata": {},
   "outputs": [
    {
     "name": "stdout",
     "output_type": "stream",
     "text": [
      "Enter your Name : shariq\n",
      "Enter your Number : 03110222443\n",
      "Enter your Email : shariq1212@gmail.com\n"
     ]
    }
   ],
   "source": [
    "username = input (\"Enter your Name : \")\n",
    "number = input (\"Enter your Number : \")\n",
    "email = input (\"Enter your Email : \")\n",
    "temp_dict = {} # temporary dictionaries\n",
    "\n",
    "temp_dict[\"username\"] = username\n",
    "temp_dict[\"number\"] = number\n",
    "temp_dict[\"email\"] = email\n",
    "\n",
    "customers.append(temp_dict)"
   ]
  },
  {
   "cell_type": "code",
   "execution_count": 45,
   "id": "9a3d6fa5",
   "metadata": {},
   "outputs": [
    {
     "name": "stdout",
     "output_type": "stream",
     "text": [
      "[{'username': 'AzamPak', 'number': '03110229243', 'email': 'azamkhan.13.pak@gmail.com'}, {'username': 'Umer', 'number': '03110231432', 'email': 'umerzaman@gmail.com', '_email': 'ammarshehzad@gmail.com'}, {'username': 'hassan', 'number': '03110223342', 'email': 'hassan0022@gmail.com'}, {'username': 'shariq', 'number': '03110222443', 'email': 'shariq1212@gmail.com'}]\n"
     ]
    }
   ],
   "source": [
    "print(customers)"
   ]
  },
  {
   "cell_type": "code",
   "execution_count": 46,
   "id": "3f0c924a",
   "metadata": {},
   "outputs": [],
   "source": [
    "customers[1]['_email'] = 'ammarshehzad@gmail.com'"
   ]
  },
  {
   "cell_type": "code",
   "execution_count": 47,
   "id": "0bdd563f",
   "metadata": {},
   "outputs": [
    {
     "name": "stdout",
     "output_type": "stream",
     "text": [
      "[{'username': 'AzamPak', 'number': '03110229243', 'email': 'azamkhan.13.pak@gmail.com'}, {'username': 'Umer', 'number': '03110231432', 'email': 'umerzaman@gmail.com', '_email': 'ammarshehzad@gmail.com'}, {'username': 'hassan', 'number': '03110223342', 'email': 'hassan0022@gmail.com'}, {'username': 'shariq', 'number': '03110222443', 'email': 'shariq1212@gmail.com'}]\n"
     ]
    }
   ],
   "source": [
    "print(customers)"
   ]
  },
  {
   "cell_type": "code",
   "execution_count": 52,
   "id": "eaa216ab",
   "metadata": {},
   "outputs": [
    {
     "data": {
      "text/plain": [
       "4"
      ]
     },
     "execution_count": 52,
     "metadata": {},
     "output_type": "execute_result"
    }
   ],
   "source": [
    "len(customers[1])"
   ]
  },
  {
   "cell_type": "code",
   "execution_count": 53,
   "id": "5aef2210",
   "metadata": {},
   "outputs": [],
   "source": [
    "contact_number = [\"030001234\" , \"0330123456\" , \"03021223456\"]"
   ]
  },
  {
   "cell_type": "code",
   "execution_count": 58,
   "id": "392afb8d",
   "metadata": {},
   "outputs": [],
   "source": [
    "customer_021 = []"
   ]
  },
  {
   "cell_type": "code",
   "execution_count": 63,
   "id": "1993ace9",
   "metadata": {},
   "outputs": [
    {
     "ename": "TypeError",
     "evalue": "list indices must be integers or slices, not str",
     "output_type": "error",
     "traceback": [
      "\u001b[1;31m---------------------------------------------------------------------------\u001b[0m",
      "\u001b[1;31mTypeError\u001b[0m                                 Traceback (most recent call last)",
      "\u001b[1;32m<ipython-input-63-3c51ea714a08>\u001b[0m in \u001b[0;36m<module>\u001b[1;34m\u001b[0m\n\u001b[1;32m----> 1\u001b[1;33m \u001b[0mcustomer_021\u001b[0m\u001b[1;33m[\u001b[0m\u001b[1;34m\"numbers\"\u001b[0m\u001b[1;33m]\u001b[0m \u001b[1;33m=\u001b[0m \u001b[0mcontact_number\u001b[0m\u001b[1;33m\u001b[0m\u001b[1;33m\u001b[0m\u001b[0m\n\u001b[0m",
      "\u001b[1;31mTypeError\u001b[0m: list indices must be integers or slices, not str"
     ]
    }
   ],
   "source": [
    "customer_021[\"numbers\"] = contact_number"
   ]
  },
  {
   "cell_type": "code",
   "execution_count": 64,
   "id": "38ce4f63",
   "metadata": {},
   "outputs": [],
   "source": [
    "customer_29876 = {\n",
    " \"first name\": \"David\",\n",
    " \"last name\": \"Elliott\",\n",
    " \"address\": \"4803 Wellesley St.\",\n",
    " }"
   ]
  },
  {
   "cell_type": "code",
   "execution_count": 65,
   "id": "195c2665",
   "metadata": {},
   "outputs": [],
   "source": [
    "customer_29876[\"numbers\"] = contact_number"
   ]
  },
  {
   "cell_type": "code",
   "execution_count": 66,
   "id": "ab19bc28",
   "metadata": {},
   "outputs": [
    {
     "name": "stdout",
     "output_type": "stream",
     "text": [
      "{'first name': 'David', 'last name': 'Elliott', 'address': '4803 Wellesley St.', 'numbers': ['030001234', '0330123456', '03021223456']}\n"
     ]
    }
   ],
   "source": [
    "print(customer_29876)"
   ]
  },
  {
   "cell_type": "code",
   "execution_count": 67,
   "id": "8029f19b",
   "metadata": {},
   "outputs": [],
   "source": [
    "dict_customers = {}"
   ]
  },
  {
   "cell_type": "code",
   "execution_count": 76,
   "id": "6e8c65cb",
   "metadata": {},
   "outputs": [
    {
     "name": "stdout",
     "output_type": "stream",
     "text": [
      "Enter your Name : test\n",
      "Enter your Number : 0311111111\n",
      "Enter your Email : test_t123@gmail.com\n"
     ]
    }
   ],
   "source": [
    "username = input (\"Enter your Name : \")\n",
    "number = input (\"Enter your Number : \")\n",
    "email = input (\"Enter your Email : \")\n",
    "temp_dict = {} \n",
    "\n",
    "temp_dict[\"username\"] = username\n",
    "temp_dict[\"number\"] = number\n",
    "temp_dict[\"email\"] = email\n",
    "\n",
    "dict_customers[email] = temp_dict"
   ]
  },
  {
   "cell_type": "code",
   "execution_count": 77,
   "id": "c1786858",
   "metadata": {},
   "outputs": [
    {
     "name": "stdout",
     "output_type": "stream",
     "text": [
      "{'email': {'username': 'umer', 'number': '0345245356', 'email': 'umer1234@gmail.com'}, 'zaman123@gmail.com': {'username': 'zaman', 'number': '0342123456', 'email': 'zaman123@gmail.com'}, 'test_t123@gmail.com': {'username': 'test', 'number': '0311111111', 'email': 'test_t123@gmail.com'}}\n"
     ]
    }
   ],
   "source": [
    "print(dict_customers)"
   ]
  },
  {
   "cell_type": "code",
   "execution_count": 84,
   "id": "67c69aa2",
   "metadata": {},
   "outputs": [
    {
     "data": {
      "text/plain": [
       "'zaman'"
      ]
     },
     "execution_count": 84,
     "metadata": {},
     "output_type": "execute_result"
    }
   ],
   "source": [
    "dict_customers['zaman123@gmail.com']['username']"
   ]
  },
  {
   "cell_type": "code",
   "execution_count": null,
   "id": "48b92f48",
   "metadata": {},
   "outputs": [],
   "source": []
  }
 ],
 "metadata": {
  "kernelspec": {
   "display_name": "Python 3",
   "language": "python",
   "name": "python3"
  },
  "language_info": {
   "codemirror_mode": {
    "name": "ipython",
    "version": 3
   },
   "file_extension": ".py",
   "mimetype": "text/x-python",
   "name": "python",
   "nbconvert_exporter": "python",
   "pygments_lexer": "ipython3",
   "version": "3.8.8"
  }
 },
 "nbformat": 4,
 "nbformat_minor": 5
}
